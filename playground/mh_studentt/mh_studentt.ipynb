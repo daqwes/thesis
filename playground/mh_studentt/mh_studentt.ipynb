{
 "cells": [
  {
   "cell_type": "code",
   "execution_count": 117,
   "metadata": {},
   "outputs": [],
   "source": [
    "import numpy as np\n",
    "import pandas as pd\n",
    "from numpy.linalg import eig\n",
    "import matplotlib.pyplot as plt\n",
    "from scipy.special import binom\n",
    "from scipy.stats import norm"
   ]
  },
  {
   "cell_type": "code",
   "execution_count": 119,
   "metadata": {},
   "outputs": [
    {
     "data": {
      "text/plain": [
       "0.3989422804014327"
      ]
     },
     "execution_count": 119,
     "metadata": {},
     "output_type": "execute_result"
    }
   ],
   "source": [
    "norm.pdf(0)"
   ]
  },
  {
   "cell_type": "code",
   "execution_count": 128,
   "metadata": {},
   "outputs": [
    {
     "data": {
      "text/plain": [
       "int"
      ]
     },
     "execution_count": 128,
     "metadata": {},
     "output_type": "execute_result"
    }
   ],
   "source": [
    "a = 2\n",
    "type(2*2)"
   ]
  },
  {
   "cell_type": "code",
   "execution_count": null,
   "metadata": {},
   "outputs": [],
   "source": [
    "def eval_posterior_real(Y_r: np.ndarray, As_r_swap: np.ndarray, y_hat: np.ndarray, lambda_: float, theta: float):\n",
    "    s1, s2 = Y_r.shape\n",
    "    d, r = int(s1 / 2), int(s2 / 2)\n",
    "    Y_rho_r_outer = Y_r @ np.conj(Y_r.T)\n",
    "    y = np.trace(As_r_swap @ Y_rho_r_outer, axis1=1, axis2=2)\n",
    "\n",
    "    lik = np.exp(\n",
    "        - lambda_ * np.linalg.norm(y_hat - np.sqrt(2) * y) ** 2\n",
    "    )\n",
    "    prior = np.linalg.det(theta**2 * np.eye(2 * d) / np.sqrt(2)\n",
    "                + np.sqrt(2) * Y_rho_r_outer) ** ((2*d + r + 2)/4)\n",
    "    return lik * prior"
   ]
  },
  {
   "cell_type": "code",
   "execution_count": 123,
   "metadata": {},
   "outputs": [],
   "source": [
    "def eval_proposal(Y: np.ndarray, dist: str = \"normal\"):\n",
    "    # TODO\n",
    "    m, n = Y.shape\n",
    "    if dist == \"normal\":\n",
    "        beta = 1\n",
    "        return 1/(2 * np.pi )**(m*n*beta/2) * np.exp(-1/2 * np.linalg.norm(Y, ord=\"fro\")**2)\n",
    "    elif dist == \"goe\":\n",
    "        assert m == n, \"d and r must have the same value for GOE\"\n",
    "        Z = (4 * np.pi)**(m/2) * (2*np.pi)**(1/2 * binom(m, 2))\n",
    "        return np.exp(-1/4 * np.trace(Y @ Y)) / Z\n",
    "def sample_proposal(d: int, r: int, dist: str):\n",
    "    if dist == \"normal\":\n",
    "        return np.random.randn(d, r)\n",
    "    elif dist == \"goe\":\n",
    "        assert d == r, \"d and r must have the same value for GOE\"\n",
    "        G = np.random.randn(d, r)\n",
    "        return (G+G.T)/(np.sqrt(2))"
   ]
  },
  {
   "cell_type": "code",
   "execution_count": 125,
   "metadata": {},
   "outputs": [
    {
     "ename": "AssertionError",
     "evalue": "d and r must have the same value for GOE",
     "output_type": "error",
     "traceback": [
      "\u001b[0;31m---------------------------------------------------------------------------\u001b[0m",
      "\u001b[0;31mAssertionError\u001b[0m                            Traceback (most recent call last)",
      "Cell \u001b[0;32mIn[125], line 7\u001b[0m\n\u001b[1;32m      5\u001b[0m max_ \u001b[38;5;241m=\u001b[39m \u001b[38;5;28mfloat\u001b[39m(\u001b[38;5;124m\"\u001b[39m\u001b[38;5;124m-inf\u001b[39m\u001b[38;5;124m\"\u001b[39m)\n\u001b[1;32m      6\u001b[0m \u001b[38;5;28;01mfor\u001b[39;00m i \u001b[38;5;129;01min\u001b[39;00m \u001b[38;5;28mrange\u001b[39m(\u001b[38;5;241m100000\u001b[39m):\n\u001b[0;32m----> 7\u001b[0m     Y \u001b[38;5;241m=\u001b[39m \u001b[43msample_proposal\u001b[49m\u001b[43m(\u001b[49m\u001b[43md\u001b[49m\u001b[43m,\u001b[49m\u001b[43m \u001b[49m\u001b[43mr\u001b[49m\u001b[43m,\u001b[49m\u001b[43m \u001b[49m\u001b[43mdist\u001b[49m\u001b[43m)\u001b[49m\n\u001b[1;32m      8\u001b[0m     prob \u001b[38;5;241m=\u001b[39m eval_proposal(Y, dist)\n\u001b[1;32m      9\u001b[0m     \u001b[38;5;66;03m# if prob > 0.1:\u001b[39;00m\n",
      "Cell \u001b[0;32mIn[123], line 15\u001b[0m, in \u001b[0;36msample_proposal\u001b[0;34m(d, r, dist)\u001b[0m\n\u001b[1;32m     13\u001b[0m     \u001b[38;5;28;01mreturn\u001b[39;00m np\u001b[38;5;241m.\u001b[39mrandom\u001b[38;5;241m.\u001b[39mrandn(d, r)\n\u001b[1;32m     14\u001b[0m \u001b[38;5;28;01melif\u001b[39;00m dist \u001b[38;5;241m==\u001b[39m \u001b[38;5;124m\"\u001b[39m\u001b[38;5;124mgoe\u001b[39m\u001b[38;5;124m\"\u001b[39m:\n\u001b[0;32m---> 15\u001b[0m     \u001b[38;5;28;01massert\u001b[39;00m d \u001b[38;5;241m==\u001b[39m r, \u001b[38;5;124m\"\u001b[39m\u001b[38;5;124md and r must have the same value for GOE\u001b[39m\u001b[38;5;124m\"\u001b[39m\n\u001b[1;32m     16\u001b[0m     G \u001b[38;5;241m=\u001b[39m np\u001b[38;5;241m.\u001b[39mrandom\u001b[38;5;241m.\u001b[39mrandn(d, r)\n\u001b[1;32m     17\u001b[0m     \u001b[38;5;28;01mreturn\u001b[39;00m (G\u001b[38;5;241m+\u001b[39mG\u001b[38;5;241m.\u001b[39mT)\u001b[38;5;241m/\u001b[39m(np\u001b[38;5;241m.\u001b[39msqrt(\u001b[38;5;241m2\u001b[39m \u001b[38;5;241m*\u001b[39m d))\n",
      "\u001b[0;31mAssertionError\u001b[0m: d and r must have the same value for GOE"
     ]
    }
   ],
   "source": [
    "d = 8\n",
    "r = 7\n",
    "dist = \"goe\"\n",
    "# Y = np.random.randn(d, r)\n",
    "max_ = float(\"-inf\")\n",
    "for i in range(100000):\n",
    "    Y = sample_proposal(d, r, dist)\n",
    "    prob = eval_proposal(Y, dist)\n",
    "    # if prob > 0.1:\n",
    "    max_ = max(max_, prob)\n",
    "print(max_)"
   ]
  },
  {
   "cell_type": "code",
   "execution_count": 13,
   "metadata": {},
   "outputs": [
    {
     "data": {
      "text/plain": [
       "1.318125"
      ]
     },
     "execution_count": 13,
     "metadata": {},
     "output_type": "execute_result"
    }
   ],
   "source": [
    "21.09/16"
   ]
  }
 ],
 "metadata": {
  "kernelspec": {
   "display_name": "Python 3",
   "language": "python",
   "name": "python3"
  },
  "language_info": {
   "codemirror_mode": {
    "name": "ipython",
    "version": 3
   },
   "file_extension": ".py",
   "mimetype": "text/x-python",
   "name": "python",
   "nbconvert_exporter": "python",
   "pygments_lexer": "ipython3",
   "version": "3.12.1"
  }
 },
 "nbformat": 4,
 "nbformat_minor": 2
}
