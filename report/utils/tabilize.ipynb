{
  "cells": [
    {
      "cell_type": "markdown",
      "source": [
        "A function for turning structured data into a color-coded latex table."
      ],
      "metadata": {
        "id": "i-V5r19hkw9D"
      }
    },
    {
      "cell_type": "code",
      "execution_count": null,
      "metadata": {
        "id": "wbSGA8PNKvIy"
      },
      "outputs": [],
      "source": [
        "import numpy as np\n",
        "\n",
        "\n",
        "def tabilize(results, precisions, rank_order, suffixes=None, hlines = []):\n",
        "\n",
        "  def rankify(x, order):\n",
        "    # Turn a vector of values into a list of ranks, while handling ties.\n",
        "    assert len(x.shape) == 1\n",
        "    if order == 0:\n",
        "      return np.full_like(x, 1e5, dtype=np.int32)\n",
        "    u = np.sort(np.unique(x))\n",
        "    if order == 1:\n",
        "      u = u[::-1]\n",
        "    r = np.zeros_like(x, dtype=np.int32)\n",
        "    for ui, uu in enumerate(u):\n",
        "      mask = x == uu\n",
        "      r[mask] = ui\n",
        "    return np.int32(r)\n",
        "\n",
        "  names = results.keys()\n",
        "  data = np.array(list(results.values()))\n",
        "  assert len(names) == len(data)\n",
        "  data = np.array(data)\n",
        "\n",
        "  tags = [' \\cellcolor{tabfirst}',\n",
        "          '\\cellcolor{tabsecond}',\n",
        "          ' \\cellcolor{tabthird}',\n",
        "          '                     ']\n",
        "\n",
        "  max_len = max([len(v) for v in list(names)])\n",
        "  names_padded = [v + ' '*(max_len-len(v)) for v in names]\n",
        "\n",
        "  data_quant = np.round((data * 10.**(np.array(precisions)[None, :]))) / 10.**(np.array(precisions)[None, :])\n",
        "  if suffixes is None:\n",
        "    suffixes = [''] * len(precisions)\n",
        "\n",
        "  tagranks = []\n",
        "  for d in range(data_quant.shape[1]):\n",
        "    tagranks.append(np.clip(rankify(data_quant[:,d], rank_order[d]), 0, len(tags)-1))\n",
        "  tagranks = np.stack(tagranks, -1)\n",
        "\n",
        "  for i_row in range(len(names)):\n",
        "    line = ''\n",
        "    if i_row in hlines:\n",
        "      line += '\\\\hline\\n'\n",
        "    line += names_padded[i_row]\n",
        "    for d in range(data_quant.shape[1]):\n",
        "      line += ' & '\n",
        "      if rank_order[d] != 0 and not np.isnan(data[i_row,d]):\n",
        "        line += tags[tagranks[i_row, d]]\n",
        "      if np.isnan(data[i_row,d]):\n",
        "        line += ' - '\n",
        "      else:\n",
        "        assert precisions[d] >= 0\n",
        "        line += ('{:' + f'0.{precisions[d]}f' + '}').format(data_quant[i_row,d]) + suffixes[d]\n",
        "    if i_row < len(names)-1:\n",
        "      line += ' \\\\\\\\'\n",
        "    print(line)"
      ]
    },
    {
      "cell_type": "markdown",
      "source": [
        "A script for calling tabilize on some placeholder data."
      ],
      "metadata": {
        "id": "h-EKLn4ykuUH"
      }
    },
    {
      "cell_type": "code",
      "execution_count": null,
      "metadata": {
        "id": "ISRu0l-f0kTU",
        "outputId": "2923c71d-90d3-49d5-aedd-24690c5c1ba0",
        "colab": {
          "base_uri": "https://localhost:8080/"
        }
      },
      "outputs": [
        {
          "output_type": "stream",
          "name": "stdout",
          "text": [
            "That one algorithm    &  \\cellcolor{tabthird}30.52 &  \\cellcolor{tabthird}0.151 & 10 sec. \\\\\n",
            "That other algorithm  & \\cellcolor{tabsecond}32.13 & \\cellcolor{tabsecond}0.074 & 100 sec. \\\\\n",
            "Yet another algorithm &                      19.26 &                      0.433 & 3 sec. \\\\\n",
            "\\hline\n",
            "My beloved algorithm  &  \\cellcolor{tabfirst}38.92 &  \\cellcolor{tabfirst}0.051 & 60 sec.\n"
          ]
        }
      ],
      "source": [
        "results = {\n",
        "    'That one algorithm': [30.52436, 0.151243, 9.61],\n",
        "    'That other algorithm': [32.1315, 0.074125, 100.1231],\n",
        "    'Yet another algorithm': [19.26456, 0.43312, 3.10],\n",
        "    'My beloved algorithm': [38.924123, 0.051241, 60.3145]}\n",
        "precisions = [2, 3, 0]  # How many digits of precision to use.\n",
        "rank_order = [1, -1, 0]  # +1 = higher is better, -1 = lower is better, 0 = do not color code.\n",
        "suffixes = ['', '', ' sec.']  # What string to append after each number.\n",
        "hlines = [3] # Where to insert horizontal lines.\n",
        "tabilize(results, precisions, rank_order, suffixes=suffixes, hlines=hlines)"
      ]
    },
    {
      "cell_type": "markdown",
      "source": [
        "And here's some toy latex code that you can dump the above generated latex into:"
      ],
      "metadata": {
        "id": "CByS2DgojT_Z"
      }
    },
    {
      "cell_type": "code",
      "source": [
        "\\definecolor{tabfirst}{rgb}{1, 0.7, 0.7} % red\n",
        "\\definecolor{tabsecond}{rgb}{1, 0.85, 0.7} % orange\n",
        "\\definecolor{tabthird}{rgb}{1, 1, 0.7} % yellow\n",
        "\n",
        "\\begin{table}\n",
        "    \\centering\n",
        "    \\begin{tabular}{l|ccc}\n",
        "    & PSNR $\\uparrow$ & LPIPS $\\downarrow$ & Runtime \\\\ \\hline\n",
        "\n",
        "PASTE THAT LATEX HERE\n",
        "\n",
        "    \\end{tabular}\n",
        "    \\caption{Wow what great results}\n",
        "    \\label{tab:results}\n",
        "\\end{table}"
      ],
      "metadata": {
        "id": "k9uqozrSi_LR"
      },
      "execution_count": null,
      "outputs": []
    }
  ],
  "metadata": {
    "colab": {
      "provenance": []
    },
    "kernelspec": {
      "display_name": "Python 3 (ipykernel)",
      "language": "python",
      "name": "python3"
    },
    "language_info": {
      "codemirror_mode": {
        "name": "ipython",
        "version": 3
      },
      "file_extension": ".py",
      "mimetype": "text/x-python",
      "name": "python",
      "nbconvert_exporter": "python",
      "pygments_lexer": "ipython3",
      "version": "3.9.12"
    }
  },
  "nbformat": 4,
  "nbformat_minor": 0
}
