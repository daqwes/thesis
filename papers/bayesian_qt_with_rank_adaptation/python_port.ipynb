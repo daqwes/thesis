{
 "cells": [
  {
   "cell_type": "code",
   "execution_count": 4,
   "metadata": {},
   "outputs": [],
   "source": [
    "import numpy as np\n",
    "from numpy.linalg import eig\n",
    "import itertools\n",
    "import functools\n",
    "import time\n",
    "def normalize_complex_arr(a: np.ndarray):\n",
    "    a_oo = a - a.real.min() - 1j*a.imag.min() # origin offsetted\n",
    "    return a_oo/np.abs(a_oo).max()\n",
    "def norm_complex(arr: np.ndarray):\n",
    "    if len(arr.shape) > 1:\n",
    "        ret_out = np.zeros_like(arr)\n",
    "        for i in range(arr.shape[0]):\n",
    "            ret_out[i,:] = arr[i]/np.sqrt((np.abs(arr[i])**2).sum())  \n",
    "        return ret_out\n",
    "    else:\n",
    "        return arr/np.sqrt((np.abs(arr)**2).sum())  "
   ]
  },
  {
   "cell_type": "code",
   "execution_count": 5,
   "metadata": {},
   "outputs": [
    {
     "name": "stdout",
     "output_type": "stream",
     "text": [
      "0.33548807629082206\n"
     ]
    },
    {
     "data": {
      "text/plain": [
       "0.9999999999999999"
      ]
     },
     "execution_count": 5,
     "metadata": {},
     "output_type": "execute_result"
    }
   ],
   "source": [
    "v = np.random.multivariate_normal(np.zeros(10),np.eye(10)/100, size=(1)).view(np.complex128)\n",
    "print(np.linalg.norm(v))\n",
    "np.linalg.norm(norm_complex(v))"
   ]
  },
  {
   "cell_type": "code",
   "execution_count": 6,
   "metadata": {},
   "outputs": [],
   "source": [
    "sx = np.array([[0, 1], [1, 0]])\n",
    "sy = np.array([[0, 1j], [-1j, 0]])\n",
    "sz = np.array([[1, 0], [0, -1]])\n",
    "basis = np.stack([np.eye(2), sx, sy, sz])\n",
    "\n",
    "n = 4 # Nb of qubits\n",
    "J = 4**n # Matches the number of bases\n",
    "I = 6**n # Matches  R*A = 2^n * 3^n = 6^n\n",
    "d = R = 2**n # matrix dimension and number of possibilities for R^a_s ({-1, 1}^n)\n",
    "A = 3**n # Number of possible measurements\n",
    "npa = np.array\n",
    "b = npa(list(itertools.product(range(4), repeat=n))) # {I, x, y, z}^n\n",
    "a = npa(list(itertools.product(range(1, 4), repeat=n))) # {x,y,z}^n\n",
    "r = npa(list(itertools.product([0, 1], repeat=n))) # {0, 1}^n -> acts like a mask for which bases to select\n",
    "r_neg = npa(list(itertools.product([-1, 1], repeat=n)))\n",
    "def projectors(idx_list, r_):\n",
    "    \"\"\"\n",
    "    Returns the P^{a_i}_{s_i} list of projection matrices \n",
    "    \"\"\"\n",
    "    evs = [eig(basis[i])[1] for i in idx_list]\n",
    "    selected_evs = np.array([ev[:, r_[i]] for i, ev in enumerate(evs)])\n",
    "    # print(selected_evs)\n",
    "    ret = npa([np.outer(np.conj(ev), ev) for ev in selected_evs])\n",
    "    # print(ret)\n",
    "    return ret\n",
    "\n",
    "#### All possible combinations of a (kron product of all permutations)\n",
    "# Pauli basis for n qubit \n",
    "sig_b = npa([functools.reduce(np.kron, (basis[b[i,:], :, :])) for i in range(J)])\n",
    "\n",
    "### Maybe matches to p_a,s = P(R^a = s) in paper, size: 6^n x 4^n\n",
    "# For every comb of the bases (j in 0:J), then for every activation of the bases (r[s in S, ])\n",
    "# Matrix P_{(r,a),b} \n",
    "P_rab = np.zeros((I, J))\n",
    "for j in range(J):\n",
    "    tmp = np.zeros((R, A))\n",
    "    for s in range(R): # r_neg[s] = [-1, 1, -1, 1], b[j]=[1, 2, 0, 2], a[l] = [2, 4, 1, 1] \n",
    "        for l in range(A): #  r_neg[s, b[j] != 0] = [-1, 1, 1]\n",
    "            val = np.prod(r_neg[s, b[j] != 0])\\\n",
    "                * np.prod(a[l, b[j] != 0] == b[j, b[j]!=0]) # a[l, b[j] != 0] == b[j, b[j] != 0] <=> [2, 4, 1] != [1, 2, 2] \n",
    "            tmp[s,l] = val\n",
    "    P_rab[:, j] = tmp.flatten(order=\"F\")\n",
    "\n",
    "### Normally, should correspond to P^a_s in paper, size: 2^n x 3^n flattened\n",
    "# The projectors matrices \n",
    "Pra = []\n",
    "for j in range(A):\n",
    "    for i in range(R):\n",
    "        # print(a[j], r[i])\n",
    "        # print(projectors(a[j], r[i]))\n",
    "        # print()\n",
    "        Pra.append(npa(functools.reduce(np.kron, projectors(a[j], r[i]))).flatten(order=\"F\")[::-1])\n",
    "    # break"
   ]
  },
  {
   "cell_type": "code",
   "execution_count": 7,
   "metadata": {},
   "outputs": [
    {
     "name": "stdout",
     "output_type": "stream",
     "text": [
      "(16, 16)\n"
     ]
    },
    {
     "name": "stderr",
     "output_type": "stream",
     "text": [
      "/tmp/ipykernel_12578/4025114846.py:17: ComplexWarning: Casting complex values to real discards the imaginary part\n",
      "  Prob_ar[i,j] = np.diag(dens_ma @ npa(functools.reduce(np.kron, projectors(a[i], r[j])))).sum()\n"
     ]
    },
    {
     "data": {
      "text/plain": [
       "array([0.19569545+6.14199396e-18j, 0.16257078+3.34519846e-18j,\n",
       "       0.14810537-6.62496584e-18j, 0.10953456+7.03510099e-18j,\n",
       "       0.09494648+9.52868573e-19j, 0.0745722 +6.50006993e-19j,\n",
       "       0.06343105+6.89826341e-18j, 0.        +0.00000000e+00j,\n",
       "       0.        +0.00000000e+00j, 0.04447084-4.67739165e-18j,\n",
       "       0.        +0.00000000e+00j, 0.0043523 +1.83183361e-18j,\n",
       "       0.03615615-5.91400433e-18j, 0.02889249+1.45866089e-18j,\n",
       "       0.02171634-8.81432044e-18j, 0.015556  -2.28324462e-18j])"
      ]
     },
     "execution_count": 7,
     "metadata": {},
     "output_type": "execute_result"
    }
   ],
   "source": [
    "# Pure state\n",
    "# dens_ma = np.zeros((d,d))\n",
    "# dens_ma[0,0] = 1\n",
    "# Mixed state (but in reality pure state, in paper is psi * psi^T)\n",
    "u = norm_complex(np.random.multivariate_normal(np.zeros(d*2),np.eye(d*2)/100, size=(d)).view(np.complex128))\n",
    "dens_ma = np.conj(u.T) @ u /d # = \\sum_i \\gamma_i V_i V_i^T\n",
    "print(dens_ma.shape)\n",
    "\n",
    "Prob_ar = np.zeros((A, R)) # Corresponds to Tr(rho \\dot P^a_s) \n",
    "if n==1:\n",
    "    for i in range(A):\n",
    "        for j in range(R):\n",
    "            Prob_ar[i,j] = dens_ma.flatten(order=\"F\") @ projectors(a[i], r[j])\n",
    "else:\n",
    "    for i in range(A):\n",
    "        for j in range(R):\n",
    "            Prob_ar[i,j] = np.diag(dens_ma @ npa(functools.reduce(np.kron, projectors(a[i], r[j])))).sum()\n",
    "Prob_ar = np.real(Prob_ar)\n",
    "# Nb of times w e repeat the measurements\n",
    "n_size = 2000\n",
    "p_ra = np.zeros((R, A)) # = \\hat{p}_a,s\n",
    "for i, x in enumerate(Prob_ar):\n",
    "    H = np.random.choice(R, n_size, replace=True, p=x) #n_size elements\n",
    "    out = []\n",
    "    for s in range(R):\n",
    "        out.append((H==s).sum()/n_size)\n",
    "    p_ra[:, i] = out\n",
    "# Transform matrix to vector form\n",
    "p_ra1 = p_ra.flatten(order=\"F\")\n",
    "temp1 = p_ra1 @ P_rab\n",
    "temp1 = temp1/d\n",
    "\n",
    "# Calculate coefs rho_b\n",
    "rho_b = [0] * J\n",
    "for i in range(J):\n",
    "    rho_b[i] = temp1[i]/(3**((b[i] == 0).sum()))\n",
    "\n",
    "# Calculate density using inversion technique\n",
    "rho_hat = np.zeros((d, d), dtype=np.complex128)\n",
    "for s in range(J):\n",
    "    rho_hat += rho_b[s] * sig_b[s]\n",
    "u_hat = eig(rho_hat)[1]\n",
    "\n",
    "# renormalize lambda_hat\n",
    "lamb_til = eig(rho_hat)[0]\n",
    "lamb_til[lamb_til < 0] = 0\n",
    "lamb_hat = lamb_til/lamb_til.sum()\n",
    "lamb_hat"
   ]
  },
  {
   "cell_type": "code",
   "execution_count": 5,
   "metadata": {},
   "outputs": [
    {
     "data": {
      "text/plain": [
       "(1296,)"
      ]
     },
     "execution_count": 5,
     "metadata": {},
     "output_type": "execute_result"
    }
   ],
   "source": [
    "p_ra1.shape"
   ]
  },
  {
   "cell_type": "code",
   "execution_count": 6,
   "metadata": {},
   "outputs": [
    {
     "data": {
      "text/plain": [
       "(1, 3)"
      ]
     },
     "execution_count": 6,
     "metadata": {},
     "output_type": "execute_result"
    }
   ],
   "source": [
    "np.ones((3,))[np.newaxis, :].shape"
   ]
  },
  {
   "cell_type": "code",
   "execution_count": 11,
   "metadata": {},
   "outputs": [
    {
     "data": {
      "text/plain": [
       "array([[ 7.85044841e-03-2.11419424e-18j,  7.85044841e-03-2.11419424e-18j,\n",
       "         7.85044841e-03-2.11419424e-18j, ...,\n",
       "         7.85044841e-03-2.11419424e-18j,  7.85044841e-03-2.11419424e-18j,\n",
       "         7.85044841e-03-2.11419424e-18j],\n",
       "       [ 3.29262216e-03+1.02999206e-18j,  3.29262216e-03+1.02999206e-18j,\n",
       "         3.29262216e-03+1.02999206e-18j, ...,\n",
       "         3.29262216e-03+1.02999206e-18j,  3.29262216e-03+1.02999206e-18j,\n",
       "         3.29262216e-03+1.02999206e-18j],\n",
       "       [ 5.61159672e-05-1.57209315e-18j,  5.61159672e-05-1.57209315e-18j,\n",
       "         5.61159672e-05-1.57209315e-18j, ...,\n",
       "         5.61159672e-05-1.57209315e-18j,  5.61159672e-05-1.57209315e-18j,\n",
       "         5.61159672e-05-1.57209315e-18j],\n",
       "       ...,\n",
       "       [ 1.53457122e-02-8.67361738e-19j,  1.53457122e-02-8.67361738e-19j,\n",
       "         1.53457122e-02-8.67361738e-19j, ...,\n",
       "         1.53457122e-02-8.67361738e-19j,  1.53457122e-02-8.67361738e-19j,\n",
       "         1.53457122e-02-8.67361738e-19j],\n",
       "       [-5.50978330e-03+0.00000000e+00j, -5.50978330e-03+0.00000000e+00j,\n",
       "        -5.50978330e-03+0.00000000e+00j, ...,\n",
       "        -5.50978330e-03+0.00000000e+00j, -5.50978330e-03+0.00000000e+00j,\n",
       "        -5.50978330e-03+0.00000000e+00j],\n",
       "       [-1.07174105e-03+0.00000000e+00j, -1.07174105e-03+0.00000000e+00j,\n",
       "        -1.07174105e-03+0.00000000e+00j, ...,\n",
       "        -1.07174105e-03+0.00000000e+00j, -1.07174105e-03+0.00000000e+00j,\n",
       "        -1.07174105e-03+0.00000000e+00j]])"
      ]
     },
     "execution_count": 11,
     "metadata": {},
     "output_type": "execute_result"
    }
   ],
   "source": [
    "((np.repeat((npa(Pra).reshape((I, J)) @ tem_can)[:, np.newaxis], p_ra1.shape[0], axis=1))- p_ra1[:, np.newaxis])"
   ]
  },
  {
   "cell_type": "code",
   "execution_count": 8,
   "metadata": {},
   "outputs": [],
   "source": [
    "rho = np.zeros((d, d))\n",
    "Te = np.random.standard_exponential(d) # Initial Y_i^0\n",
    "Id = np.eye(d)\n",
    "U = u_hat # eigenvectors of \\hat(rho) found using inversion, initial V_i^0\n",
    "Lamb = Te/Te.sum() # gamma^0\n",
    "U = u_hat # eigenvectors of \\hat(rho) found using inversion, initial V_i^0\n",
    "be = 1\n",
    "\n",
    "for i in range(10):\n",
    "    for j in range(d):\n",
    "        Te_can = Te.copy() \n",
    "        Te_can[j] = Te[j] * np.exp(be * np.random.uniform(-0.5, 0.5, 1)) # \\tilde(Y)_i = exp(y ~ U(-0.5, 0.5)) Y_i^t-1\n",
    "        L_can = Te_can/Te_can.sum() # \\tilde(gamma)_i = \\tilde(Y_i)/sum_j^d(\\tilde(Y_j))\n",
    "        tem_can = (U @ np.diag(L_can) @ np.conj(U.T)).flatten(order=\"F\") # gamma * U * U^T (U = V in paper)\n",
    "        tem = (U @ np.diag(Lamb) @ np.conj(U.T)).flatten(order=\"F\")\n",
    "        Pra_m = npa(Pra).reshape((I, J))\n",
    "        ss1 = (np.repeat((Pra_m @ tem_can)[:, np.newaxis], p_ra1.shape[0], axis=1) - p_ra1[:, np.newaxis])**2\n",
    "        ss2 = (np.repeat((Pra_m @ tem)[:, np.newaxis], p_ra1.shape[0], axis=1)- p_ra1[:, np.newaxis])**2\n",
    "        ss = (ss1 - ss2).sum()"
   ]
  },
  {
   "cell_type": "code",
   "execution_count": 14,
   "metadata": {},
   "outputs": [],
   "source": [
    "def g():\n",
    "    import jax\n",
    "    import jax.random as rd\n",
    "    import jax.numpy as jnp\n",
    "    key = jax.random.PRNGKey(0)\n",
    "    rho = jnp.zeros((d, d))\n",
    "    key, subkey = rd.split(key)\n",
    "    Te = rd.exponential(subkey, (d,))# np.random.standard_exponential(d) # Initial Y_i^0\n",
    "    Id = jnp.eye(d)#np.eye(d)\n",
    "    U = jnp.asarray(u_hat) # eigenvectors of \\hat(rho) found using inversion, initial V_i^0\n",
    "    Lamb = Te/Te.sum() # gamma^0\n",
    "    be = 1\n",
    "    p_ra1 = jnp.asarray(p_ra1)\n",
    "    Pra_m = jnp.asarray(Pra).reshape((I, J))\n",
    "    for i in range(10):\n",
    "        for j in range(d):\n",
    "            Te_can = Te.copy()\n",
    "            key, subkey = rd.split(key)\n",
    "            Te_can.at[j].set(Te[j] * jnp.exp(be * rd.uniform(subkey, (1,), minval=-0.5, maxval=0.5))[0]) # \\tilde(Y)_i = exp(y ~ U(-0.5, 0.5)) Y_i^t-1\n",
    "            L_can = Te_can/Te_can.sum() # \\tilde(gamma)_i = \\tilde(Y_i)/sum_j^d(\\tilde(Y_j))\n",
    "            tem_can = (U @ jnp.diag(L_can) @ jnp.conj(U.T)).flatten(order=\"F\") # gamma * U * U^T (U = V in paper)\n",
    "            tem = (U @ jnp.diag(Lamb) @ jnp.conj(U.T)).flatten(order=\"F\")\n",
    "            ss1 = (jnp.repeat((Pra_m @ tem_can)[:, jnp.newaxis], p_ra1.shape[0], axis=1) - p_ra1[:, jnp.newaxis])**2\n",
    "            ss2 = (jnp.repeat((Pra_m @ tem)[:, jnp.newaxis], p_ra1.shape[0], axis=1)- p_ra1[:, jnp.newaxis])**2\n",
    "            ss = (ss1 - ss2).sum()"
   ]
  },
  {
   "cell_type": "code",
   "execution_count": 15,
   "metadata": {},
   "outputs": [
    {
     "ename": "UnboundLocalError",
     "evalue": "local variable 'p_ra1' referenced before assignment",
     "output_type": "error",
     "traceback": [
      "\u001b[0;31m---------------------------------------------------------------------------\u001b[0m",
      "\u001b[0;31mUnboundLocalError\u001b[0m                         Traceback (most recent call last)",
      "\u001b[1;32m/home/daniel/Documents/thesis/papers/bayesian_qt_with_rank_adaptation/python_port.ipynb Cell 10\u001b[0m in \u001b[0;36m<cell line: 1>\u001b[0;34m()\u001b[0m\n\u001b[0;32m----> <a href='vscode-notebook-cell:/home/daniel/Documents/thesis/papers/bayesian_qt_with_rank_adaptation/python_port.ipynb#X31sZmlsZQ%3D%3D?line=0'>1</a>\u001b[0m get_ipython()\u001b[39m.\u001b[39;49mrun_line_magic(\u001b[39m'\u001b[39;49m\u001b[39mlprun\u001b[39;49m\u001b[39m'\u001b[39;49m, \u001b[39m'\u001b[39;49m\u001b[39m-f g g()\u001b[39;49m\u001b[39m'\u001b[39;49m)\n",
      "File \u001b[0;32m~/mambaforge/envs/road_segmentation/lib/python3.10/site-packages/IPython/core/interactiveshell.py:2305\u001b[0m, in \u001b[0;36mInteractiveShell.run_line_magic\u001b[0;34m(self, magic_name, line, _stack_depth)\u001b[0m\n\u001b[1;32m   2303\u001b[0m     kwargs[\u001b[39m'\u001b[39m\u001b[39mlocal_ns\u001b[39m\u001b[39m'\u001b[39m] \u001b[39m=\u001b[39m \u001b[39mself\u001b[39m\u001b[39m.\u001b[39mget_local_scope(stack_depth)\n\u001b[1;32m   2304\u001b[0m \u001b[39mwith\u001b[39;00m \u001b[39mself\u001b[39m\u001b[39m.\u001b[39mbuiltin_trap:\n\u001b[0;32m-> 2305\u001b[0m     result \u001b[39m=\u001b[39m fn(\u001b[39m*\u001b[39;49margs, \u001b[39m*\u001b[39;49m\u001b[39m*\u001b[39;49mkwargs)\n\u001b[1;32m   2306\u001b[0m \u001b[39mreturn\u001b[39;00m result\n",
      "File \u001b[0;32m~/mambaforge/envs/road_segmentation/lib/python3.10/site-packages/line_profiler/ipython_extension.py:104\u001b[0m, in \u001b[0;36mLineProfilerMagics.lprun\u001b[0;34m(self, parameter_s)\u001b[0m\n\u001b[1;32m    102\u001b[0m \u001b[39mtry\u001b[39;00m:\n\u001b[1;32m    103\u001b[0m     \u001b[39mtry\u001b[39;00m:\n\u001b[0;32m--> 104\u001b[0m         profile\u001b[39m.\u001b[39;49mrunctx(arg_str, global_ns, local_ns)\n\u001b[1;32m    105\u001b[0m         message \u001b[39m=\u001b[39m \u001b[39m\"\u001b[39m\u001b[39m\"\u001b[39m\n\u001b[1;32m    106\u001b[0m     \u001b[39mexcept\u001b[39;00m \u001b[39mSystemExit\u001b[39;00m:\n",
      "File \u001b[0;32m~/mambaforge/envs/road_segmentation/lib/python3.10/site-packages/line_profiler/line_profiler.py:162\u001b[0m, in \u001b[0;36mLineProfiler.runctx\u001b[0;34m(self, cmd, globals, locals)\u001b[0m\n\u001b[1;32m    160\u001b[0m \u001b[39mself\u001b[39m\u001b[39m.\u001b[39menable_by_count()\n\u001b[1;32m    161\u001b[0m \u001b[39mtry\u001b[39;00m:\n\u001b[0;32m--> 162\u001b[0m     exec(cmd, \u001b[39mglobals\u001b[39;49m, \u001b[39mlocals\u001b[39;49m)\n\u001b[1;32m    163\u001b[0m \u001b[39mfinally\u001b[39;00m:\n\u001b[1;32m    164\u001b[0m     \u001b[39mself\u001b[39m\u001b[39m.\u001b[39mdisable_by_count()\n",
      "File \u001b[0;32m<string>:1\u001b[0m, in \u001b[0;36m<module>\u001b[0;34m\u001b[0m\n",
      "\u001b[1;32m/home/daniel/Documents/thesis/papers/bayesian_qt_with_rank_adaptation/python_port.ipynb Cell 10\u001b[0m in \u001b[0;36mg\u001b[0;34m()\u001b[0m\n\u001b[1;32m     <a href='vscode-notebook-cell:/home/daniel/Documents/thesis/papers/bayesian_qt_with_rank_adaptation/python_port.ipynb#X31sZmlsZQ%3D%3D?line=10'>11</a>\u001b[0m Lamb \u001b[39m=\u001b[39m Te\u001b[39m/\u001b[39mTe\u001b[39m.\u001b[39msum() \u001b[39m# gamma^0\u001b[39;00m\n\u001b[1;32m     <a href='vscode-notebook-cell:/home/daniel/Documents/thesis/papers/bayesian_qt_with_rank_adaptation/python_port.ipynb#X31sZmlsZQ%3D%3D?line=11'>12</a>\u001b[0m be \u001b[39m=\u001b[39m \u001b[39m1\u001b[39m\n\u001b[0;32m---> <a href='vscode-notebook-cell:/home/daniel/Documents/thesis/papers/bayesian_qt_with_rank_adaptation/python_port.ipynb#X31sZmlsZQ%3D%3D?line=12'>13</a>\u001b[0m p_ra1 \u001b[39m=\u001b[39m jnp\u001b[39m.\u001b[39masarray(p_ra1)\n\u001b[1;32m     <a href='vscode-notebook-cell:/home/daniel/Documents/thesis/papers/bayesian_qt_with_rank_adaptation/python_port.ipynb#X31sZmlsZQ%3D%3D?line=13'>14</a>\u001b[0m Pra_m \u001b[39m=\u001b[39m jnp\u001b[39m.\u001b[39masarray(Pra)\u001b[39m.\u001b[39mreshape((I, J))\n\u001b[1;32m     <a href='vscode-notebook-cell:/home/daniel/Documents/thesis/papers/bayesian_qt_with_rank_adaptation/python_port.ipynb#X31sZmlsZQ%3D%3D?line=14'>15</a>\u001b[0m \u001b[39mfor\u001b[39;00m i \u001b[39min\u001b[39;00m \u001b[39mrange\u001b[39m(\u001b[39m10\u001b[39m):\n",
      "\u001b[0;31mUnboundLocalError\u001b[0m: local variable 'p_ra1' referenced before assignment"
     ]
    }
   ],
   "source": [
    "%lprun -f g g()"
   ]
  },
  {
   "attachments": {},
   "cell_type": "markdown",
   "metadata": {},
   "source": [
    "## Main MH"
   ]
  },
  {
   "cell_type": "code",
   "execution_count": 9,
   "metadata": {},
   "outputs": [],
   "source": [
    "%load_ext line_profiler"
   ]
  },
  {
   "cell_type": "code",
   "execution_count": 10,
   "metadata": {},
   "outputs": [
    {
     "name": "stdout",
     "output_type": "stream",
     "text": [
      "0\n",
      "mid\n",
      "1\n",
      "mid\n",
      "2\n"
     ]
    },
    {
     "ename": "KeyboardInterrupt",
     "evalue": "",
     "output_type": "error",
     "traceback": [
      "\u001b[0;31m---------------------------------------------------------------------------\u001b[0m",
      "\u001b[0;31mKeyboardInterrupt\u001b[0m                         Traceback (most recent call last)",
      "\u001b[1;32m/home/daniel/Documents/thesis/papers/bayesian_qt_with_rank_adaptation/python_port.ipynb Cell 11\u001b[0m in \u001b[0;36m<cell line: 18>\u001b[0;34m()\u001b[0m\n\u001b[1;32m     <a href='vscode-notebook-cell:/home/daniel/Documents/thesis/papers/bayesian_qt_with_rank_adaptation/python_port.ipynb#X13sZmlsZQ%3D%3D?line=27'>28</a>\u001b[0m ss1 \u001b[39m=\u001b[39m (np\u001b[39m.\u001b[39mrepeat((Pra_m \u001b[39m@\u001b[39m tem_can)[:, np\u001b[39m.\u001b[39mnewaxis], p_ra1\u001b[39m.\u001b[39mshape[\u001b[39m0\u001b[39m], axis\u001b[39m=\u001b[39m\u001b[39m1\u001b[39m) \u001b[39m-\u001b[39m p_ra1[:, np\u001b[39m.\u001b[39mnewaxis])\u001b[39m*\u001b[39m\u001b[39m*\u001b[39m\u001b[39m2\u001b[39m\n\u001b[1;32m     <a href='vscode-notebook-cell:/home/daniel/Documents/thesis/papers/bayesian_qt_with_rank_adaptation/python_port.ipynb#X13sZmlsZQ%3D%3D?line=28'>29</a>\u001b[0m ss2 \u001b[39m=\u001b[39m (np\u001b[39m.\u001b[39mrepeat((Pra_m \u001b[39m@\u001b[39m tem)[:, np\u001b[39m.\u001b[39mnewaxis], p_ra1\u001b[39m.\u001b[39mshape[\u001b[39m0\u001b[39m], axis\u001b[39m=\u001b[39m\u001b[39m1\u001b[39m)\u001b[39m-\u001b[39m p_ra1[:, np\u001b[39m.\u001b[39mnewaxis])\u001b[39m*\u001b[39m\u001b[39m*\u001b[39m\u001b[39m2\u001b[39m\n\u001b[0;32m---> <a href='vscode-notebook-cell:/home/daniel/Documents/thesis/papers/bayesian_qt_with_rank_adaptation/python_port.ipynb#X13sZmlsZQ%3D%3D?line=29'>30</a>\u001b[0m ss \u001b[39m=\u001b[39m (ss1 \u001b[39m-\u001b[39;49m ss2)\u001b[39m.\u001b[39;49msum()\n\u001b[1;32m     <a href='vscode-notebook-cell:/home/daniel/Documents/thesis/papers/bayesian_qt_with_rank_adaptation/python_port.ipynb#X13sZmlsZQ%3D%3D?line=30'>31</a>\u001b[0m r_prior \u001b[39m=\u001b[39m (ro\u001b[39m-\u001b[39m\u001b[39m1\u001b[39m) \u001b[39m*\u001b[39m np\u001b[39m.\u001b[39mlog(Te_can[j]\u001b[39m/\u001b[39mTe[j]) \u001b[39m-\u001b[39m Te_can[j] \u001b[39m+\u001b[39m Te[j] \u001b[39m# other part of R acceptance ratio\u001b[39;00m\n\u001b[1;32m     <a href='vscode-notebook-cell:/home/daniel/Documents/thesis/papers/bayesian_qt_with_rank_adaptation/python_port.ipynb#X13sZmlsZQ%3D%3D?line=31'>32</a>\u001b[0m ap \u001b[39m=\u001b[39m \u001b[39m-\u001b[39mgamm\u001b[39m*\u001b[39mnp\u001b[39m.\u001b[39mreal(ss) \u001b[39m# other part (why use np.real?)\u001b[39;00m\n",
      "File \u001b[0;32m~/mambaforge/envs/road_segmentation/lib/python3.10/site-packages/numpy/core/_methods.py:48\u001b[0m, in \u001b[0;36m_sum\u001b[0;34m(a, axis, dtype, out, keepdims, initial, where)\u001b[0m\n\u001b[1;32m     46\u001b[0m \u001b[39mdef\u001b[39;00m \u001b[39m_sum\u001b[39m(a, axis\u001b[39m=\u001b[39m\u001b[39mNone\u001b[39;00m, dtype\u001b[39m=\u001b[39m\u001b[39mNone\u001b[39;00m, out\u001b[39m=\u001b[39m\u001b[39mNone\u001b[39;00m, keepdims\u001b[39m=\u001b[39m\u001b[39mFalse\u001b[39;00m,\n\u001b[1;32m     47\u001b[0m          initial\u001b[39m=\u001b[39m_NoValue, where\u001b[39m=\u001b[39m\u001b[39mTrue\u001b[39;00m):\n\u001b[0;32m---> 48\u001b[0m     \u001b[39mreturn\u001b[39;00m umr_sum(a, axis, dtype, out, keepdims, initial, where)\n",
      "\u001b[0;31mKeyboardInterrupt\u001b[0m: "
     ]
    }
   ],
   "source": [
    "# def f():\n",
    "# Main part\n",
    "rho = np.zeros((d, d))\n",
    "Te = np.random.standard_exponential(d) # Initial Y_i^0\n",
    "Id = np.eye(d)\n",
    "U = u_hat # eigenvectors of \\hat(rho) found using inversion, initial V_i^0\n",
    "Lamb = Te/Te.sum() # gamma^0\n",
    "ro = 1/2\n",
    "S = (rho_hat + np.conj(rho_hat.T))/2\n",
    "be = 1\n",
    "\n",
    "gamm = n_size/2 # lambda in paper \n",
    "entry = []\n",
    "Iter = 500\n",
    "burnin = 100\n",
    "start_time = time.time()\n",
    "Pra_m = npa(Pra).reshape((I, J))\n",
    "for t in range(Iter + burnin):\n",
    "    print(t)\n",
    "    for j in range(d): # Loop for Y_i\n",
    "        \n",
    "        Te_can = Te.copy() \n",
    "        Te_can[j] = Te[j] * np.exp(be * np.random.uniform(-0.5, 0.5, 1)) # \\tilde(Y)_i = exp(y ~ U(-0.5, 0.5)) Y_i^t-1\n",
    "        L_can = Te_can/Te_can.sum() # \\tilde(gamma)_i = \\tilde(Y_i)/sum_j^d(\\tilde(Y_j))\n",
    "        tem_can = (U @ np.diag(L_can) @ np.conj(U.T)).flatten(order=\"F\") # gamma * U * U^T (U = V in paper)\n",
    "        tem = (U @ np.diag(Lamb) @ np.conj(U.T)).flatten(order=\"F\") # prev gamma * U * U^T\n",
    "        #ss = (npa([tem_can.T @ x - p_ra1 for x in Pra])**2 - npa([tem.T @ x - p_ra1 for x in Pra])**2).sum() # l^prob: sum_a sum_s (Tr(v P^a_s) - hat(p^_a,s))^2\n",
    "        ss1 = (np.repeat((Pra_m @ tem_can)[:, np.newaxis], p_ra1.shape[0], axis=1) - p_ra1[:, np.newaxis])**2\n",
    "        ss2 = (np.repeat((Pra_m @ tem)[:, np.newaxis], p_ra1.shape[0], axis=1)- p_ra1[:, np.newaxis])**2\n",
    "        ss = (ss1 - ss2).sum()\n",
    "        r_prior = (ro-1) * np.log(Te_can[j]/Te[j]) - Te_can[j] + Te[j] # other part of R acceptance ratio\n",
    "        ap = -gamm*np.real(ss) # other part (why use np.real?)\n",
    "        if np.log(np.random.uniform(0, 1, 1)) <= ap + r_prior: Te = Te_can # if value above draw from U(0,1), then update\n",
    "        Lamb = Te/Te.sum() # gamma\n",
    "    print(\"mid\")\n",
    "    for j in range(d): # Loop for V_i\n",
    "        U_can = U.copy()\n",
    "        U_can[:, j] = norm_complex(U[:,j] + np.random.multivariate_normal(np.zeros(d*2),np.eye(d*2)/100, size=(1)).view(np.complex128)) # Sample U/V from the unit sphere (not sure why we add to previous value)\n",
    "        tem_can = (U_can @ np.diag(Lamb) @ np.conj(U_can.T)).flatten(order=\"F\") # gamma * U * U^T\n",
    "        tem = (U @ np.diag(Lamb) @ np.conj(U.T)).flatten(order=\"F\") # gamma * U_t-1 * U^T_t-1\n",
    "        # ss = (npa([tem_can.T @  x - p_ra1 for x in Pra])**2 - npa([tem.T @ x - p_ra1 for x in Pra])**2).sum() # l^prob: sum_a sum_s (Tr(v P^a_s) - hat(p^_a,s))^2\n",
    "        ss1 = (np.repeat((Pra_m @ tem_can)[:, np.newaxis], p_ra1.shape[0], axis=1) - p_ra1[:, np.newaxis])**2\n",
    "        ss2 = (np.repeat((Pra_m @ tem)[:, np.newaxis], p_ra1.shape[0], axis=1)- p_ra1[:, np.newaxis])**2\n",
    "        ss = (ss1 - ss2).sum()\n",
    "        ap = -gamm * np.real(ss) # other part of A accep ratio\n",
    "        if np.log(np.random.uniform(0, 1, 1)) <= ap: U = U_can # if value above draw from U(0,1), then update\n",
    "\n",
    "    if t > burnin:\n",
    "        rho = U @ np.diag(Lamb) @ np.conj(U.T)/(t - burnin) + rho*(1-1/(t-burnin)) # approximate rho each time as rho_t = gamma_t * V_t * V_t^T /(t-burnin) + rho_t-1 / (1 - 1/(t-burnin)) -> the later we are, the more importance we give to prev rho\n",
    "end_time = time.time()"
   ]
  },
  {
   "cell_type": "code",
   "execution_count": 9,
   "metadata": {},
   "outputs": [
    {
     "name": "stdout",
     "output_type": "stream",
     "text": [
      "0\n",
      "mid\n",
      "1\n",
      "mid\n",
      "2\n",
      "mid\n",
      "3\n",
      "mid\n",
      "4\n"
     ]
    },
    {
     "ename": "KeyboardInterrupt",
     "evalue": "",
     "output_type": "error",
     "traceback": [
      "\u001b[0;31m---------------------------------------------------------------------------\u001b[0m",
      "\u001b[0;31mKeyboardInterrupt\u001b[0m                         Traceback (most recent call last)",
      "\u001b[1;32m/home/daniel/Documents/thesis/papers/bayesian_qt_with_rank_adaptation/python_port.ipynb Cell 12\u001b[0m in \u001b[0;36m<cell line: 1>\u001b[0;34m()\u001b[0m\n\u001b[0;32m----> <a href='vscode-notebook-cell:/home/daniel/Documents/thesis/papers/bayesian_qt_with_rank_adaptation/python_port.ipynb#X14sZmlsZQ%3D%3D?line=0'>1</a>\u001b[0m f()\n",
      "\u001b[1;32m/home/daniel/Documents/thesis/papers/bayesian_qt_with_rank_adaptation/python_port.ipynb Cell 12\u001b[0m in \u001b[0;36mf\u001b[0;34m()\u001b[0m\n\u001b[1;32m     <a href='vscode-notebook-cell:/home/daniel/Documents/thesis/papers/bayesian_qt_with_rank_adaptation/python_port.ipynb#X14sZmlsZQ%3D%3D?line=27'>28</a>\u001b[0m ss1 \u001b[39m=\u001b[39m (np\u001b[39m.\u001b[39mrepeat((Pra_m \u001b[39m@\u001b[39m tem_can)[:, np\u001b[39m.\u001b[39mnewaxis], p_ra1\u001b[39m.\u001b[39mshape[\u001b[39m0\u001b[39m], axis\u001b[39m=\u001b[39m\u001b[39m1\u001b[39m) \u001b[39m-\u001b[39m p_ra1[:, np\u001b[39m.\u001b[39mnewaxis])\u001b[39m*\u001b[39m\u001b[39m*\u001b[39m\u001b[39m2\u001b[39m\n\u001b[1;32m     <a href='vscode-notebook-cell:/home/daniel/Documents/thesis/papers/bayesian_qt_with_rank_adaptation/python_port.ipynb#X14sZmlsZQ%3D%3D?line=28'>29</a>\u001b[0m ss2 \u001b[39m=\u001b[39m (np\u001b[39m.\u001b[39mrepeat((Pra_m \u001b[39m@\u001b[39m tem)[:, np\u001b[39m.\u001b[39mnewaxis], p_ra1\u001b[39m.\u001b[39mshape[\u001b[39m0\u001b[39m], axis\u001b[39m=\u001b[39m\u001b[39m1\u001b[39m)\u001b[39m-\u001b[39m p_ra1[:, np\u001b[39m.\u001b[39mnewaxis])\u001b[39m*\u001b[39m\u001b[39m*\u001b[39m\u001b[39m2\u001b[39m\n\u001b[0;32m---> <a href='vscode-notebook-cell:/home/daniel/Documents/thesis/papers/bayesian_qt_with_rank_adaptation/python_port.ipynb#X14sZmlsZQ%3D%3D?line=29'>30</a>\u001b[0m ss \u001b[39m=\u001b[39m (ss1 \u001b[39m-\u001b[39;49m ss2)\u001b[39m.\u001b[39;49msum()\n\u001b[1;32m     <a href='vscode-notebook-cell:/home/daniel/Documents/thesis/papers/bayesian_qt_with_rank_adaptation/python_port.ipynb#X14sZmlsZQ%3D%3D?line=30'>31</a>\u001b[0m r_prior \u001b[39m=\u001b[39m (ro\u001b[39m-\u001b[39m\u001b[39m1\u001b[39m) \u001b[39m*\u001b[39m np\u001b[39m.\u001b[39mlog(Te_can[j]\u001b[39m/\u001b[39mTe[j]) \u001b[39m-\u001b[39m Te_can[j] \u001b[39m+\u001b[39m Te[j] \u001b[39m# other part of R acceptance ratio\u001b[39;00m\n\u001b[1;32m     <a href='vscode-notebook-cell:/home/daniel/Documents/thesis/papers/bayesian_qt_with_rank_adaptation/python_port.ipynb#X14sZmlsZQ%3D%3D?line=31'>32</a>\u001b[0m ap \u001b[39m=\u001b[39m \u001b[39m-\u001b[39mgamm\u001b[39m*\u001b[39mnp\u001b[39m.\u001b[39mreal(ss) \u001b[39m# other part (why use np.real?)\u001b[39;00m\n",
      "File \u001b[0;32m~/mambaforge/envs/road_segmentation/lib/python3.10/site-packages/numpy/core/_methods.py:46\u001b[0m, in \u001b[0;36m_sum\u001b[0;34m(a, axis, dtype, out, keepdims, initial, where)\u001b[0m\n\u001b[1;32m     42\u001b[0m \u001b[39mdef\u001b[39;00m \u001b[39m_amin\u001b[39m(a, axis\u001b[39m=\u001b[39m\u001b[39mNone\u001b[39;00m, out\u001b[39m=\u001b[39m\u001b[39mNone\u001b[39;00m, keepdims\u001b[39m=\u001b[39m\u001b[39mFalse\u001b[39;00m,\n\u001b[1;32m     43\u001b[0m           initial\u001b[39m=\u001b[39m_NoValue, where\u001b[39m=\u001b[39m\u001b[39mTrue\u001b[39;00m):\n\u001b[1;32m     44\u001b[0m     \u001b[39mreturn\u001b[39;00m umr_minimum(a, axis, \u001b[39mNone\u001b[39;00m, out, keepdims, initial, where)\n\u001b[0;32m---> 46\u001b[0m \u001b[39mdef\u001b[39;00m \u001b[39m_sum\u001b[39m(a, axis\u001b[39m=\u001b[39m\u001b[39mNone\u001b[39;00m, dtype\u001b[39m=\u001b[39m\u001b[39mNone\u001b[39;00m, out\u001b[39m=\u001b[39m\u001b[39mNone\u001b[39;00m, keepdims\u001b[39m=\u001b[39m\u001b[39mFalse\u001b[39;00m,\n\u001b[1;32m     47\u001b[0m          initial\u001b[39m=\u001b[39m_NoValue, where\u001b[39m=\u001b[39m\u001b[39mTrue\u001b[39;00m):\n\u001b[1;32m     48\u001b[0m     \u001b[39mreturn\u001b[39;00m umr_sum(a, axis, dtype, out, keepdims, initial, where)\n\u001b[1;32m     50\u001b[0m \u001b[39mdef\u001b[39;00m \u001b[39m_prod\u001b[39m(a, axis\u001b[39m=\u001b[39m\u001b[39mNone\u001b[39;00m, dtype\u001b[39m=\u001b[39m\u001b[39mNone\u001b[39;00m, out\u001b[39m=\u001b[39m\u001b[39mNone\u001b[39;00m, keepdims\u001b[39m=\u001b[39m\u001b[39mFalse\u001b[39;00m,\n\u001b[1;32m     51\u001b[0m           initial\u001b[39m=\u001b[39m_NoValue, where\u001b[39m=\u001b[39m\u001b[39mTrue\u001b[39;00m):\n",
      "\u001b[0;31mKeyboardInterrupt\u001b[0m: "
     ]
    }
   ],
   "source": [
    "f()"
   ]
  },
  {
   "cell_type": "code",
   "execution_count": 41,
   "metadata": {},
   "outputs": [
    {
     "name": "stdout",
     "output_type": "stream",
     "text": [
      "0\n",
      "mid\n",
      "1\n",
      "mid\n",
      "2\n",
      "mid\n",
      "3\n",
      "mid\n",
      "4\n",
      "*** KeyboardInterrupt exception caught in code being profiled."
     ]
    },
    {
     "name": "stdout",
     "output_type": "stream",
     "text": [
      "Timer unit: 1e-09 s\n",
      "\n",
      "Total time: 5.37994 s\n",
      "File: /tmp/ipykernel_27398/1258079928.py\n",
      "Function: f at line 1\n",
      "\n",
      "Line #      Hits         Time  Per Hit   % Time  Line Contents\n",
      "==============================================================\n",
      "     1                                           def f():\n",
      "     2                                               # Main part\n",
      "     3         1      16203.0  16203.0      0.0      rho = np.zeros((d, d))\n",
      "     4         1      20603.0  20603.0      0.0      Te = np.random.standard_exponential(d) # Initial Y_i^0\n",
      "     5         1      31010.0  31010.0      0.0      Id = np.eye(d)\n",
      "     6         1       1886.0   1886.0      0.0      U = u_hat # eigenvectors of \\hat(rho) found using inversion\n",
      "     7         1      49238.0  49238.0      0.0      Lamb = Te/Te.sum() # gamma^0\n",
      "     8         1       1397.0   1397.0      0.0      ro = 1/2\n",
      "     9         1      31010.0  31010.0      0.0      S = (rho_hat + np.conj(rho_hat.T))/2\n",
      "    10         1       1956.0   1956.0      0.0      be = 1\n",
      "    11                                           \n",
      "    12         1       2444.0   2444.0      0.0      gamm = n_size/2 # lambda in paper \n",
      "    13         1       1397.0   1397.0      0.0      entry = []\n",
      "    14         1       1397.0   1397.0      0.0      Iter = 500\n",
      "    15         1       1466.0   1466.0      0.0      burnin = 100\n",
      "    16         1       4330.0   4330.0      0.0      start_time = time.time()\n",
      "    17         1    2573328.0 2573328.0      0.0      Pra_m = npa(Pra).reshape((I, J))\n",
      "    18         5      15434.0   3086.8      0.0      for t in range(Iter + burnin):\n",
      "    19         5     471993.0  94398.6      0.0          print(t)\n",
      "    20        72     140385.0   1949.8      0.0          for j in range(d): # Loop for Y_i\n",
      "    21                                                       \n",
      "    22        72     400961.0   5568.9      0.0              Te_can = Te.copy() \n",
      "    23        72    1499506.0  20826.5      0.0              Te_can[j] = Te[j] * np.exp(be * np.random.uniform(-0.5, 0.5, 1)) # \\tilde(Y)_i = exp(y ~ U(-0.5, 0.5)) Y_i^t-1\n",
      "    24        72     497065.0   6903.7      0.0              L_can = Te_can/Te_can.sum() # \\tilde(gamma)_i = \\tilde(Y_i)/sum_j^d(\\tilde(Y_j))\n",
      "    25        72    5110688.0  70981.8      0.1              tem_can = (U @ np.diag(L_can) @ np.conj(U.T)).flatten(order=\"F\") # gamma * U * U^T (U = V in paper)\n",
      "    26        72    1268955.0  17624.4      0.0              tem = (U @ np.diag(Lamb) @ np.conj(U.T)).flatten(order=\"F\") # prev gamma * U * U^T\n",
      "    27                                                       #ss = (npa([tem_can.T @ x - p_ra1 for x in Pra])**2 - npa([tem.T @ x - p_ra1 for x in Pra])**2).sum() # l^prob: sum_a sum_s (Tr(v P^a_s) - hat(p^_a,s))^2\n",
      "    28        72 1117295399.0 15517991.7     20.8              ss1 = (np.repeat((Pra_m @ tem_can)[:, np.newaxis], p_ra1.shape[0], axis=1) - p_ra1[:, np.newaxis])**2\n",
      "    29        71 1136764064.0 16010761.5     21.1              ss2 = (np.repeat((Pra_m @ tem)[:, np.newaxis], p_ra1.shape[0], axis=1)- p_ra1[:, np.newaxis])**2\n",
      "    30        71  546553753.0 7697940.2     10.2              ss = (ss1 - ss2).sum()\n",
      "    31        71    2592398.0  36512.6      0.0              r_prior = (ro-1) * np.log(Te_can[j]/Te[j]) - Te_can[j] + Te[j] # other part of R acceptance ratio\n",
      "    32        71    1341945.0  18900.6      0.0              ap = -gamm*np.real(ss) # other part (why use np.real?)\n",
      "    33        71    2534071.0  35691.1      0.0              if np.log(np.random.uniform(0, 1, 1)) <= ap + r_prior: Te = Te_can # if value above draw from U(0,1), then update\n",
      "    34        71    1652742.0  23278.1      0.0              Lamb = Te/Te.sum() # gamma\n",
      "    35         4     325255.0  81313.8      0.0          print(\"mid\")\n",
      "    36        64     123198.0   1925.0      0.0          for j in range(d): # Loop for V_i\n",
      "    37        64     653309.0  10208.0      0.0              U_can = U.copy()\n",
      "    38        64   27211347.0 425177.3      0.5              U_can[:, j] = norm_complex(U[:,j] + np.random.multivariate_normal(np.zeros(d*2),np.eye(d*2)/100, size=(1)).view(np.complex128)) # Sample U/V from the unit sphere (not sure why we add to previous value)\n",
      "    39        64    2774821.0  43356.6      0.1              tem_can = (U_can @ np.diag(Lamb) @ np.conj(U_can.T)).flatten(order=\"F\") # gamma * U * U^T\n",
      "    40        64    1149181.0  17956.0      0.0              tem = (U @ np.diag(Lamb) @ np.conj(U.T)).flatten(order=\"F\") # gamma * U_t-1 * U^T_t-1\n",
      "    41                                                       # ss = (npa([tem_can.T @  x - p_ra1 for x in Pra])**2 - npa([tem.T @ x - p_ra1 for x in Pra])**2).sum() # l^prob: sum_a sum_s (Tr(v P^a_s) - hat(p^_a,s))^2\n",
      "    42        64  994441288.0 15538145.1     18.5              ss1 = (np.repeat((Pra_m @ tem_can)[:, np.newaxis], p_ra1.shape[0], axis=1) - p_ra1[:, np.newaxis])**2\n",
      "    43        64 1020965671.0 15952588.6     19.0              ss2 = (np.repeat((Pra_m @ tem)[:, np.newaxis], p_ra1.shape[0], axis=1)- p_ra1[:, np.newaxis])**2\n",
      "    44        64  505940901.0 7905326.6      9.4              ss = (ss1 - ss2).sum()\n",
      "    45        64    2087431.0  32616.1      0.0              ap = -gamm * np.real(ss) # other part of A accep ratio\n",
      "    46        64    3386566.0  52915.1      0.1              if np.log(np.random.uniform(0, 1, 1)) <= ap: U = U_can # if value above draw from U(0,1), then update\n",
      "    47                                           \n",
      "    48         4       8451.0   2112.8      0.0          if t > burnin:\n",
      "    49                                                       rho = U @ np.diag(Lamb) @ np.conj(U.T)/(t - burnin) + rho*(1-1/(t-burnin)) # approximate rho each time as rho_t = gamma_t * V_t * V_t^T /(t-burnin) + rho_t-1 / (1 - 1/(t-burnin)) -> the later we are, the more importance we give to prev rho\n",
      "    50                                               end_time = time.time()"
     ]
    }
   ],
   "source": [
    "%lprun -f f f()"
   ]
  },
  {
   "cell_type": "code",
   "execution_count": null,
   "metadata": {},
   "outputs": [],
   "source": [
    "print(f\"Took: {end_time - start_time} s\")\n",
    "mean_rho = np.mean((dens_ma - rho) @ np.conj((dens_ma - rho).T))\n",
    "mean_rho_hat = np.mean((dens_ma - rho_hat) @ np.conj((dens_ma - rho_hat).T))\n",
    "rho_evs = eig(rho)[0]"
   ]
  },
  {
   "cell_type": "code",
   "execution_count": 155,
   "metadata": {},
   "outputs": [
    {
     "data": {
      "text/plain": [
       "array([[0.0515, 0.045 , 0.0565, ..., 0.0615, 0.057 , 0.0495],\n",
       "       [0.047 , 0.0575, 0.053 , ..., 0.0465, 0.038 , 0.0465],\n",
       "       [0.061 , 0.054 , 0.067 , ..., 0.044 , 0.0435, 0.0505],\n",
       "       ...,\n",
       "       [0.036 , 0.0515, 0.0635, ..., 0.068 , 0.088 , 0.0875],\n",
       "       [0.075 , 0.064 , 0.0685, ..., 0.09  , 0.068 , 0.0735],\n",
       "       [0.068 , 0.0695, 0.071 , ..., 0.0705, 0.0825, 0.083 ]])"
      ]
     },
     "execution_count": 155,
     "metadata": {},
     "output_type": "execute_result"
    }
   ],
   "source": [
    "#np.ones((5, 10)).sum(axis=0)\n",
    "# dens_ma.flatten() @ projectors(a[0], r[0])\n",
    "p_ra"
   ]
  },
  {
   "cell_type": "code",
   "execution_count": 20,
   "metadata": {},
   "outputs": [
    {
     "data": {
      "text/plain": [
       "(16, 16)"
      ]
     },
     "execution_count": 20,
     "metadata": {},
     "output_type": "execute_result"
    }
   ],
   "source": [
    "functools.reduce(np.kron, [np.eye(2)] * 4).shape"
   ]
  },
  {
   "cell_type": "code",
   "execution_count": 134,
   "metadata": {},
   "outputs": [
    {
     "data": {
      "text/plain": [
       "array([[-0.06956268+0.02435846j, -0.14123075-0.06311271j,\n",
       "         0.00222598+0.2609201j ,  0.05914259+0.08152464j,\n",
       "        -0.03022365+0.05777163j,  0.02326001-0.08326039j,\n",
       "        -0.0484067 +0.24582793j, -0.00301281-0.13517634j,\n",
       "        -0.02032145+0.06912466j, -0.10548587-0.04543596j,\n",
       "         0.07877333+0.08333259j, -0.10900354+0.03113042j,\n",
       "        -0.06166528+0.16194991j,  0.00724261-0.03640795j,\n",
       "        -0.06860541-0.11615742j, -0.02843429+0.03530594j],\n",
       "       [-0.11057946-0.1204106j , -0.05896407+0.08861196j,\n",
       "         0.11388097+0.13442166j, -0.06069431+0.05797215j,\n",
       "         0.11024054+0.03092668j,  0.20188125+0.08169993j,\n",
       "        -0.13928047-0.09284634j, -0.12224631+0.14017381j,\n",
       "        -0.07238691-0.23412461j,  0.14743275-0.07562126j,\n",
       "         0.08320665-0.04646794j, -0.06249008+0.02412488j,\n",
       "         0.01166913-0.01180255j, -0.02507991-0.12516436j,\n",
       "         0.02586024+0.11108448j, -0.14223691+0.11283102j],\n",
       "       [ 0.11396121-0.09717666j, -0.13510539+0.10105309j,\n",
       "         0.15760836+0.08041262j,  0.07567426-0.28443236j,\n",
       "        -0.09744039+0.2212897j , -0.23966248+0.22346345j,\n",
       "         0.00972961-0.25708111j, -0.03644749-0.05766534j,\n",
       "         0.24102972-0.01812518j, -0.02390548-0.00352986j,\n",
       "         0.01222709+0.1389603j ,  0.11670805+0.00331718j,\n",
       "         0.15303391-0.17709815j, -0.12297093-0.05718574j,\n",
       "         0.12267731-0.0520117j ,  0.0551062 -0.03737668j],\n",
       "       [-0.12277667+0.15486239j, -0.12187748-0.05159302j,\n",
       "        -0.02665327-0.05612395j, -0.14679862-0.0181023j ,\n",
       "         0.07640751+0.11179984j,  0.00190446+0.05202904j,\n",
       "         0.00723948+0.14967821j, -0.01828024-0.00226644j,\n",
       "         0.12450578+0.0122027j , -0.04562736+0.01974792j,\n",
       "        -0.13278515+0.28542366j, -0.0042484 +0.05394418j,\n",
       "        -0.11208094+0.02506418j,  0.01487894-0.08616636j,\n",
       "         0.15111568-0.009234j  , -0.06250022-0.04023569j],\n",
       "       [ 0.21478517-0.0989835j ,  0.19858003+0.02312278j,\n",
       "        -0.17236189+0.19545121j, -0.21280262-0.04345944j,\n",
       "         0.22032203+0.03782312j,  0.1011183 +0.00343748j,\n",
       "        -0.13130757-0.04444196j, -0.01534492+0.03453904j,\n",
       "         0.09885315-0.15016526j, -0.008524  -0.00065145j,\n",
       "         0.02608463+0.10181243j, -0.00843098+0.00846813j,\n",
       "         0.10509085+0.02999607j,  0.06643737+0.20098299j,\n",
       "         0.07075902-0.14780288j, -0.07702161-0.12534727j],\n",
       "       [-0.13747306-0.05643738j,  0.01405953-0.09705679j,\n",
       "         0.08051187+0.0794056j , -0.07193119+0.02758935j,\n",
       "         0.08444   +0.10790563j, -0.07510728+0.00196973j,\n",
       "        -0.03665578-0.11782723j,  0.12171952+0.01547021j,\n",
       "         0.01140565-0.07585932j,  0.01800652+0.01425295j,\n",
       "        -0.06027066-0.06346646j,  0.01214492-0.15485096j,\n",
       "         0.1237202 +0.16226431j, -0.05185842+0.05171031j,\n",
       "         0.18009021-0.0208432j , -0.08160877-0.10942537j],\n",
       "       [ 0.07447427-0.01294112j, -0.1130837 +0.01158706j,\n",
       "        -0.21743542-0.14153927j,  0.11846976+0.13441974j,\n",
       "         0.11891395+0.17821943j,  0.16999793-0.06627031j,\n",
       "         0.00183027-0.13083717j, -0.06747132+0.07693345j,\n",
       "         0.19035723-0.00177482j,  0.08822818+0.09755674j,\n",
       "        -0.11376277-0.18934698j, -0.0047717 +0.02197845j,\n",
       "         0.20393635-0.07257599j,  0.16067064+0.07656534j,\n",
       "         0.11592915+0.00248775j, -0.10863805-0.12453406j],\n",
       "       [-0.14734119-0.00136637j, -0.05015057+0.05638042j,\n",
       "         0.06888725+0.11695283j, -0.09214146+0.03503251j,\n",
       "         0.08176347+0.07214285j, -0.05299411-0.13094344j,\n",
       "         0.08612171+0.02015451j,  0.09401723+0.12813427j,\n",
       "         0.07683102-0.05479818j,  0.11974596-0.11718338j,\n",
       "        -0.01116411+0.14122633j,  0.13949293-0.16874257j,\n",
       "         0.17629722+0.19183448j,  0.128194  -0.06449069j,\n",
       "        -0.01960453+0.12208381j, -0.05698631+0.09539482j],\n",
       "       [-0.04288389+0.01810117j, -0.00970914-0.051662j  ,\n",
       "        -0.22291684+0.161576j  ,  0.09688261-0.03611618j,\n",
       "        -0.13774412+0.00857766j,  0.01267723+0.08869571j,\n",
       "        -0.02724688-0.02156847j,  0.12192656+0.1258288j ,\n",
       "        -0.23413316-0.08507101j, -0.1220208 +0.1008241j ,\n",
       "        -0.02298201-0.08489067j, -0.02005876-0.08471598j,\n",
       "         0.07305052+0.05094304j,  0.06214542-0.11390832j,\n",
       "        -0.09009396+0.09380756j,  0.01609745-0.09858294j],\n",
       "       [-0.08876798+0.12324303j,  0.01106459+0.25775176j,\n",
       "         0.05901885+0.11286416j, -0.02463406+0.04787314j,\n",
       "        -0.01626904+0.03979531j,  0.06391152-0.02596984j,\n",
       "        -0.14276335-0.02348852j,  0.20724209-0.12910545j,\n",
       "         0.07949628-0.02458554j,  0.11012239+0.01295916j,\n",
       "        -0.1738533 -0.00561361j,  0.08487298-0.11755634j,\n",
       "         0.2198249 +0.01070289j,  0.08494342+0.01314637j,\n",
       "        -0.17372585+0.02095538j, -0.09380322-0.08594011j],\n",
       "       [-0.10001066+0.05065468j,  0.12807969+0.070411j  ,\n",
       "        -0.09886665-0.12320933j, -0.11576008+0.02891297j,\n",
       "         0.22229031+0.05751176j, -0.10620977-0.1644879j ,\n",
       "        -0.11169892+0.0935821j , -0.07095129+0.09862721j,\n",
       "        -0.02219976-0.00665593j,  0.08941802-0.0544705j ,\n",
       "         0.04856495-0.12870357j,  0.04373431-0.03696177j,\n",
       "         0.04707779-0.04506896j, -0.12723043-0.03117192j,\n",
       "         0.07042189-0.03392668j,  0.06164702+0.05769242j],\n",
       "       [-0.04632901-0.16839104j,  0.08351208-0.05084269j,\n",
       "        -0.04357184+0.06459891j,  0.09873453-0.06330706j,\n",
       "         0.18905831-0.12214069j,  0.08114516-0.14605022j,\n",
       "         0.09619078-0.01822218j,  0.14054794-0.03445511j,\n",
       "         0.26625123+0.0016887j ,  0.02623489+0.09004216j,\n",
       "         0.09048796+0.14296579j,  0.01377911+0.08984767j,\n",
       "        -0.02390779-0.09408607j,  0.1575079 +0.03287794j,\n",
       "        -0.13197444+0.08295722j,  0.02244042+0.11092115j],\n",
       "       [ 0.05212621+0.1527136j , -0.04479783-0.07025236j,\n",
       "        -0.13719525+0.05473732j,  0.01214952+0.07746751j,\n",
       "         0.03960042+0.02151656j, -0.16241416+0.0938647j ,\n",
       "        -0.00762236+0.02035183j, -0.05516689+0.08669168j,\n",
       "        -0.01289946-0.1027482j ,  0.05461924+0.07428493j,\n",
       "        -0.04636204+0.07185362j, -0.06309408-0.15914716j,\n",
       "         0.06270162-0.00029913j,  0.17475067-0.02130315j,\n",
       "        -0.08456515+0.1404161j , -0.06577997+0.11086384j],\n",
       "       [ 0.26669415+0.05568573j, -0.14931177+0.12995356j,\n",
       "         0.08485023+0.2046069j , -0.07977857+0.05948746j,\n",
       "         0.16604717+0.04595278j,  0.15041167-0.12561792j,\n",
       "         0.13500098-0.05339499j,  0.09762165+0.24970101j,\n",
       "        -0.00713109+0.03503229j, -0.0325064 -0.08764961j,\n",
       "        -0.05093064+0.05467751j, -0.08942718-0.04505544j,\n",
       "         0.16284954-0.10195404j, -0.04390743-0.02753082j,\n",
       "         0.09174803+0.11635139j,  0.0609259 -0.11550245j],\n",
       "       [-0.10379896-0.1007589j ,  0.1008405 +0.00475778j,\n",
       "        -0.06819876-0.14611711j,  0.06320568-0.1323205j ,\n",
       "        -0.12572773+0.2136504j , -0.184253  -0.10243132j,\n",
       "         0.19076277+0.06619218j, -0.08701284+0.02255877j,\n",
       "        -0.1481074 -0.05889165j,  0.15499578+0.00699496j,\n",
       "         0.09296897+0.10344501j, -0.07133843+0.04902256j,\n",
       "         0.02500457-0.04993352j,  0.00524637-0.20395993j,\n",
       "        -0.10513701+0.04891276j, -0.15385679+0.08979142j],\n",
       "       [-0.07248455-0.01464413j,  0.03389765+0.08014427j,\n",
       "        -0.00523062+0.10921596j,  0.02665264+0.17989896j,\n",
       "         0.12762474-0.034979j  , -0.00311741-0.06157845j,\n",
       "        -0.13083603-0.14293443j, -0.06904653+0.05719516j,\n",
       "        -0.0753347 -0.07243442j,  0.0677635 -0.11646174j,\n",
       "         0.05685237+0.02805954j, -0.02051383+0.16344091j,\n",
       "        -0.14340996+0.14034904j,  0.0002925 -0.12542437j,\n",
       "         0.00944292-0.17066107j,  0.01472504-0.06572805j]])"
      ]
     },
     "execution_count": 134,
     "metadata": {},
     "output_type": "execute_result"
    }
   ],
   "source": [
    "np.random.multivariate_normal(np.zeros(d*2),np.eye(d*2)/100, 16).view(np.complex128)"
   ]
  },
  {
   "cell_type": "code",
   "execution_count": 142,
   "metadata": {},
   "outputs": [],
   "source": [
    "cpl_v = npa([-0.06956268+0.02435846j, -0.14123075-0.06311271j,\n",
    "         0.00222598+0.2609201j ,  0.05914259+0.08152464j,\n",
    "        -0.03022365+0.05777163j,  0.02326001-0.08326039j,\n",
    "        -0.0484067 +0.24582793j, -0.00301281-0.13517634j,\n",
    "        -0.02032145+0.06912466j, -0.10548587-0.04543596j,\n",
    "         0.07877333+0.08333259j, -0.10900354+0.03113042j,\n",
    "        -0.06166528+0.16194991j,  0.00724261-0.03640795j,\n",
    "        -0.06860541-0.11615742j, -0.02843429+0.03530594j])"
   ]
  },
  {
   "cell_type": "code",
   "execution_count": 146,
   "metadata": {},
   "outputs": [
    {
     "data": {
      "text/plain": [
       "array([-0.12776887+0.04474027j, -0.2594048 -0.11592192j,\n",
       "        0.00408856+0.47924354j,  0.10862982+0.14973993j,\n",
       "       -0.05551312+0.10611172j,  0.04272269-0.15292806j,\n",
       "       -0.08891074+0.45152308j, -0.00553376-0.24828439j,\n",
       "       -0.03732531+0.12696434j, -0.19375059-0.08345425j,\n",
       "        0.14468648+0.15306067j, -0.20021165+0.05717863j,\n",
       "       -0.11326336+0.2974606j ,  0.01330282-0.0668721j ,\n",
       "       -0.12601061-0.2133515j , -0.05222652+0.06484799j])"
      ]
     },
     "execution_count": 146,
     "metadata": {},
     "output_type": "execute_result"
    }
   ],
   "source": [
    "def norm_complex(arr: np.ndarray):\n",
    "    ret_out = np.zeros_like(arr)\n",
    "    if len(arr.shape) > 1:\n",
    "        for i in range(arr.shape[0]):\n",
    "            ret_out[i,:] = arr[i]/np.sqrt((np.abs(arr[i])**2).sum())  \n",
    "    else:\n",
    "        return arr/np.sqrt((np.abs(arr)**2).sum())       \n",
    "norm_complex(cpl_v)"
   ]
  },
  {
   "cell_type": "code",
   "execution_count": 23,
   "metadata": {},
   "outputs": [],
   "source": [
    "def print_hjello():\n",
    "    print(\"hello\")\n",
    "    print(5)"
   ]
  },
  {
   "cell_type": "code",
   "execution_count": 25,
   "metadata": {},
   "outputs": [
    {
     "name": "stdout",
     "output_type": "stream",
     "text": [
      "hello\n",
      "5\n"
     ]
    },
    {
     "name": "stdout",
     "output_type": "stream",
     "text": [
      "Timer unit: 1e-09 s\n",
      "\n",
      "Total time: 6.4954e-05 s\n",
      "File: /tmp/ipykernel_12423/3878689494.py\n",
      "Function: print_hjello at line 1\n",
      "\n",
      "Line #      Hits         Time  Per Hit   % Time  Line Contents\n",
      "==============================================================\n",
      "     1                                           def print_hjello():\n",
      "     2         1      59087.0  59087.0     91.0      print(\"hello\")\n",
      "     3         1       5867.0   5867.0      9.0      print(5)"
     ]
    }
   ],
   "source": [
    "%lprun -f print_hjello print_hjello()"
   ]
  }
 ],
 "metadata": {
  "kernelspec": {
   "display_name": "road_segmentation",
   "language": "python",
   "name": "python3"
  },
  "language_info": {
   "codemirror_mode": {
    "name": "ipython",
    "version": 3
   },
   "file_extension": ".py",
   "mimetype": "text/x-python",
   "name": "python",
   "nbconvert_exporter": "python",
   "pygments_lexer": "ipython3",
   "version": "3.10.6"
  },
  "orig_nbformat": 4
 },
 "nbformat": 4,
 "nbformat_minor": 2
}
